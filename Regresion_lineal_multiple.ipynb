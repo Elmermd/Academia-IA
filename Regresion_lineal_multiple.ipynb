{
  "nbformat": 4,
  "nbformat_minor": 0,
  "metadata": {
    "colab": {
      "provenance": [],
      "authorship_tag": "ABX9TyMy5hawHGm/1FTL8pdyw+iD",
      "include_colab_link": true
    },
    "kernelspec": {
      "name": "python3",
      "display_name": "Python 3"
    },
    "language_info": {
      "name": "python"
    }
  },
  "cells": [
    {
      "cell_type": "markdown",
      "metadata": {
        "id": "view-in-github",
        "colab_type": "text"
      },
      "source": [
        "<a href=\"https://colab.research.google.com/github/Elmermd/Academia-IA/blob/main/Regresion_lineal_multiple.ipynb\" target=\"_parent\"><img src=\"https://colab.research.google.com/assets/colab-badge.svg\" alt=\"Open In Colab\"/></a>"
      ]
    },
    {
      "cell_type": "markdown",
      "source": [
        "# Caso de uso: Predicción del Consumo Energético de una Cadena de Tiendas (Ejemplo: Sanborns)\n",
        "\n",
        "Variables a considerar (variables independientes):\n",
        "- Temperatura\n",
        "- Área de la tienda\n",
        "- Número de equipos eléctricos\n",
        "- Tipo de equipos\n",
        "- Zona geográfica\n",
        "- Horario de la tienda\n",
        "\n",
        "\n",
        "\n",
        "```\n",
        "y_real = Consumo (kWh) de las facturas\n",
        "y_pred = Consumo (kWh) del modelo predictivo\n",
        "```\n",
        "\n"
      ],
      "metadata": {
        "id": "l5H1ob-rCYXV"
      }
    }
  ]
}