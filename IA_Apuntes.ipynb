{
  "nbformat": 4,
  "nbformat_minor": 0,
  "metadata": {
    "colab": {
      "provenance": [],
      "authorship_tag": "ABX9TyNBaQDnh2vS1RIZcUlByPMO",
      "include_colab_link": true
    },
    "kernelspec": {
      "name": "python3",
      "display_name": "Python 3"
    },
    "language_info": {
      "name": "python"
    }
  },
  "cells": [
    {
      "cell_type": "markdown",
      "metadata": {
        "id": "view-in-github",
        "colab_type": "text"
      },
      "source": [
        "<a href=\"https://colab.research.google.com/github/Elmermd/Academia-IA/blob/main/IA_Apuntes.ipynb\" target=\"_parent\"><img src=\"https://colab.research.google.com/assets/colab-badge.svg\" alt=\"Open In Colab\"/></a>"
      ]
    },
    {
      "cell_type": "markdown",
      "source": [
        "## Inteligencia Artificial (IA)\n",
        "La Inteligencia Artificial es cualquier tecnología que tiene como propósito imitar las acciones o actividades del ser humano, aunque no existe una definición oficial universalmente aceptada.\n",
        "\n",
        "## Machine Learning\n",
        "El Machine Learning o aprendizaje automático es una rama de la inteligencia artificial enfocada en desarrollar algoritmos y modelos que aprenden y mejoran su rendimiento en tareas específicas a partir de datos y experiencia.\n",
        "\n",
        "## Deep Learning y Redes Neuronales\n",
        "El Deep Learning utiliza redes neuronales inspiradas en el cerebro humano.\n",
        "Esto es sumamente útil porque permite diseñar sistemas complejos como traducir texto entre diferentes idiomas, detección facial en imágenes o generación de contenido totalmente nuevo.\n",
        "\n",
        "## ¿Qué tipo de aprendizaje sería ideal para predecir la deserción estudiantil en una universidad? ¿Por qué?\n",
        "El aprendizaje supersivaso sería ideal porque tenemos registros de datos en cada universidad por alumnos, por lo que facilmente podríamos etiquetarlos. Y como se mencionó, podriamos hacer uso de un algoritmo de regresión ineal para predecir el comportamiento de deserción en una universidad en particular."
      ],
      "metadata": {
        "id": "ITQ-1-wZt8qu"
      }
    },
    {
      "cell_type": "code",
      "source": [],
      "metadata": {
        "id": "Iy20VKh3uqLX"
      },
      "execution_count": null,
      "outputs": []
    }
  ]
}